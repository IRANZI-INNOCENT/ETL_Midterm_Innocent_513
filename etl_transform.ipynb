{
 "cells": [
  {
   "cell_type": "markdown",
   "id": "f0a21469",
   "metadata": {},
   "source": [
    "# ETL Transform Phase\n",
    "## Objective\n",
    "Apply at least four meaningful transformations to `raw_data.csv` and `incremental_data.csv`, show before-and-after, and save results to `transformed_full.csv` and `transformed_incremental.csv`.\n",
    "## Transformations\n",
    "1. **Cleaning**: Handle missing values and duplicates.\n",
    "2. **Enrichment**: Add `total_price` = `quantity` * `unit_price`.\n",
    "3. **Structural**: Convert `order_date` to datetime and extract `month`.\n",
    "4. **Categorization**: Create `price_category` based on `total_price`.\n",
    "## Tools\n",
    "- Python, pandas, matplotlib"
   ]
  },
  {
   "cell_type": "code",
   "execution_count": 1,
   "id": "0eff3cfc",
   "metadata": {},
   "outputs": [],
   "source": [
    "# Import libraries for data handling and visualization\n",
    "import pandas as pd\n",
    "import matplotlib.pyplot as plt\n",
    "\n",
    "# Load raw datasets\n",
    "raw_df = pd.read_csv('data/raw_data.csv')\n",
    "incremental_df = pd.read_csv('data/incremental_data.csv')"
   ]
  },
  {
   "cell_type": "markdown",
   "id": "66f099bc",
   "metadata": {},
   "source": [
    "## Transformation 1: Cleaning (Handle Missing Values and Duplicates)\n",
    "**Why**: Missing values disrupt analysis, and duplicates (e.g., order ID 4) skew results. We fill missing values with defaults and remove duplicates to ensure data quality."
   ]
  },
  {
   "cell_type": "code",
   "execution_count": 2,
   "id": "b3cd5b0b",
   "metadata": {},
   "outputs": [
    {
     "name": "stdout",
     "output_type": "stream",
     "text": [
      "Raw Data Missing Values Before:\n",
      "order_id          0\n",
      "customer_name     1\n",
      "product           0\n",
      "quantity         26\n",
      "unit_price       35\n",
      "order_date        1\n",
      "region           25\n",
      "dtype: int64\n",
      "\n",
      "Incremental Data Missing Values Before:\n",
      "order_id         0\n",
      "customer_name    6\n",
      "product          0\n",
      "quantity         4\n",
      "unit_price       0\n",
      "order_date       0\n",
      "region           2\n",
      "dtype: int64\n",
      "\n",
      "Raw Data Missing Values After:\n",
      "order_id         0\n",
      "customer_name    0\n",
      "product          0\n",
      "quantity         0\n",
      "unit_price       0\n",
      "order_date       0\n",
      "region           0\n",
      "dtype: int64\n",
      "\n",
      "Incremental Data Missing Values After:\n",
      "order_id         0\n",
      "customer_name    0\n",
      "product          0\n",
      "quantity         0\n",
      "unit_price       0\n",
      "order_date       0\n",
      "region           0\n",
      "dtype: int64\n"
     ]
    }
   ],
   "source": [
    "# Before: Show missing values\n",
    "print('Raw Data Missing Values Before:')\n",
    "print(raw_df.isnull().sum())\n",
    "print('\\nIncremental Data Missing Values Before:')\n",
    "print(incremental_df.isnull().sum())\n",
    "\n",
    "# Cleaning: Fill missing values\n",
    "for df in [raw_df, incremental_df]:\n",
    "    df['customer_name'] = df['customer_name'].fillna('Unknown')\n",
    "    df['quantity'] = df['quantity'].fillna(1.0)  # Default to 1\n",
    "    df['unit_price'] = df['unit_price'].fillna(df['unit_price'].median())  # Use median\n",
    "    df['order_date'] = df['order_date'].fillna('2024-01-01')  # Default date\n",
    "    df['region'] = df['region'].fillna('Unknown')\n",
    "\n",
    "# Remove duplicates in raw_data\n",
    "raw_df = raw_df.drop_duplicates(subset=['order_id'], keep='first')\n",
    "\n",
    "# After: Verify no missing values\n",
    "print('\\nRaw Data Missing Values After:')\n",
    "print(raw_df.isnull().sum())\n",
    "print('\\nIncremental Data Missing Values After:')\n",
    "print(incremental_df.isnull().sum())"
   ]
  },
  {
   "cell_type": "markdown",
   "id": "ddaa05ff",
   "metadata": {},
   "source": [
    "## Transformation 2: Enrichment (Add total_price)\n",
    "**Why**: Calculating `total_price` = `quantity` * `unit_price` adds a key metric for sales analysis, enabling insights into order value."
   ]
  },
  {
   "cell_type": "code",
   "execution_count": 3,
   "id": "7776139d",
   "metadata": {},
   "outputs": [
    {
     "name": "stdout",
     "output_type": "stream",
     "text": [
      "Raw Data Columns Before: ['order_id', 'customer_name', 'product', 'quantity', 'unit_price', 'order_date', 'region']\n",
      "\n",
      "Raw Data Head After total_price:\n"
     ]
    },
    {
     "data": {
      "application/vnd.microsoft.datawrangler.viewer.v0+json": {
       "columns": [
        {
         "name": "index",
         "rawType": "int64",
         "type": "integer"
        },
        {
         "name": "order_id",
         "rawType": "int64",
         "type": "integer"
        },
        {
         "name": "quantity",
         "rawType": "float64",
         "type": "float"
        },
        {
         "name": "unit_price",
         "rawType": "float64",
         "type": "float"
        },
        {
         "name": "total_price",
         "rawType": "float64",
         "type": "float"
        }
       ],
       "ref": "cbe8c365-8c8a-4834-a47c-7fca6f1d100b",
       "rows": [
        [
         "0",
         "1",
         "1.0",
         "500.0",
         "500.0"
        ],
        [
         "1",
         "2",
         "1.0",
         "500.0",
         "500.0"
        ],
        [
         "2",
         "3",
         "2.0",
         "250.0",
         "500.0"
        ],
        [
         "3",
         "4",
         "2.0",
         "750.0",
         "1500.0"
        ],
        [
         "4",
         "5",
         "3.0",
         "500.0",
         "1500.0"
        ]
       ],
       "shape": {
        "columns": 4,
        "rows": 5
       }
      },
      "text/html": [
       "<div>\n",
       "<style scoped>\n",
       "    .dataframe tbody tr th:only-of-type {\n",
       "        vertical-align: middle;\n",
       "    }\n",
       "\n",
       "    .dataframe tbody tr th {\n",
       "        vertical-align: top;\n",
       "    }\n",
       "\n",
       "    .dataframe thead th {\n",
       "        text-align: right;\n",
       "    }\n",
       "</style>\n",
       "<table border=\"1\" class=\"dataframe\">\n",
       "  <thead>\n",
       "    <tr style=\"text-align: right;\">\n",
       "      <th></th>\n",
       "      <th>order_id</th>\n",
       "      <th>quantity</th>\n",
       "      <th>unit_price</th>\n",
       "      <th>total_price</th>\n",
       "    </tr>\n",
       "  </thead>\n",
       "  <tbody>\n",
       "    <tr>\n",
       "      <th>0</th>\n",
       "      <td>1</td>\n",
       "      <td>1.0</td>\n",
       "      <td>500.0</td>\n",
       "      <td>500.0</td>\n",
       "    </tr>\n",
       "    <tr>\n",
       "      <th>1</th>\n",
       "      <td>2</td>\n",
       "      <td>1.0</td>\n",
       "      <td>500.0</td>\n",
       "      <td>500.0</td>\n",
       "    </tr>\n",
       "    <tr>\n",
       "      <th>2</th>\n",
       "      <td>3</td>\n",
       "      <td>2.0</td>\n",
       "      <td>250.0</td>\n",
       "      <td>500.0</td>\n",
       "    </tr>\n",
       "    <tr>\n",
       "      <th>3</th>\n",
       "      <td>4</td>\n",
       "      <td>2.0</td>\n",
       "      <td>750.0</td>\n",
       "      <td>1500.0</td>\n",
       "    </tr>\n",
       "    <tr>\n",
       "      <th>4</th>\n",
       "      <td>5</td>\n",
       "      <td>3.0</td>\n",
       "      <td>500.0</td>\n",
       "      <td>1500.0</td>\n",
       "    </tr>\n",
       "  </tbody>\n",
       "</table>\n",
       "</div>"
      ],
      "text/plain": [
       "   order_id  quantity  unit_price  total_price\n",
       "0         1       1.0       500.0        500.0\n",
       "1         2       1.0       500.0        500.0\n",
       "2         3       2.0       250.0        500.0\n",
       "3         4       2.0       750.0       1500.0\n",
       "4         5       3.0       500.0       1500.0"
      ]
     },
     "execution_count": 3,
     "metadata": {},
     "output_type": "execute_result"
    }
   ],
   "source": [
    "# Before: Show columns\n",
    "print('Raw Data Columns Before:', raw_df.columns.tolist())\n",
    "\n",
    "# Add total_price column\n",
    "for df in [raw_df, incremental_df]:\n",
    "    df['total_price'] = df['quantity'] * df['unit_price']\n",
    "\n",
    "# After: Verify total_price\n",
    "print('\\nRaw Data Head After total_price:')\n",
    "raw_df[['order_id', 'quantity', 'unit_price', 'total_price']].head()\n"
   ]
  },
  {
   "cell_type": "markdown",
   "id": "a0334b2d",
   "metadata": {},
   "source": [
    "## Transformation 3: Structural (Convert order_date to datetime, extract month)\n",
    "**Why**: Converting `order_date` to datetime enables time-based analysis, and extracting `month` supports trend identification (e.g., seasonal sales)."
   ]
  },
  {
   "cell_type": "code",
   "execution_count": 4,
   "id": "ddf906ca",
   "metadata": {},
   "outputs": [
    {
     "name": "stdout",
     "output_type": "stream",
     "text": [
      "Raw Data order_date dtype Before: object\n",
      "\n",
      "Raw Data Head After datetime conversion:\n"
     ]
    },
    {
     "data": {
      "application/vnd.microsoft.datawrangler.viewer.v0+json": {
       "columns": [
        {
         "name": "index",
         "rawType": "int64",
         "type": "integer"
        },
        {
         "name": "order_id",
         "rawType": "int64",
         "type": "integer"
        },
        {
         "name": "order_date",
         "rawType": "datetime64[ns]",
         "type": "datetime"
        },
        {
         "name": "month",
         "rawType": "object",
         "type": "string"
        }
       ],
       "ref": "20155409-a1a6-4bd1-a3cf-b10f3cb4dfff",
       "rows": [
        [
         "0",
         "1",
         "2024-01-20 00:00:00",
         "January"
        ],
        [
         "1",
         "2",
         "2024-04-29 00:00:00",
         "April"
        ],
        [
         "2",
         "3",
         "2024-01-08 00:00:00",
         "January"
        ],
        [
         "3",
         "4",
         "2024-01-07 00:00:00",
         "January"
        ],
        [
         "4",
         "5",
         "2024-03-07 00:00:00",
         "March"
        ]
       ],
       "shape": {
        "columns": 3,
        "rows": 5
       }
      },
      "text/html": [
       "<div>\n",
       "<style scoped>\n",
       "    .dataframe tbody tr th:only-of-type {\n",
       "        vertical-align: middle;\n",
       "    }\n",
       "\n",
       "    .dataframe tbody tr th {\n",
       "        vertical-align: top;\n",
       "    }\n",
       "\n",
       "    .dataframe thead th {\n",
       "        text-align: right;\n",
       "    }\n",
       "</style>\n",
       "<table border=\"1\" class=\"dataframe\">\n",
       "  <thead>\n",
       "    <tr style=\"text-align: right;\">\n",
       "      <th></th>\n",
       "      <th>order_id</th>\n",
       "      <th>order_date</th>\n",
       "      <th>month</th>\n",
       "    </tr>\n",
       "  </thead>\n",
       "  <tbody>\n",
       "    <tr>\n",
       "      <th>0</th>\n",
       "      <td>1</td>\n",
       "      <td>2024-01-20</td>\n",
       "      <td>January</td>\n",
       "    </tr>\n",
       "    <tr>\n",
       "      <th>1</th>\n",
       "      <td>2</td>\n",
       "      <td>2024-04-29</td>\n",
       "      <td>April</td>\n",
       "    </tr>\n",
       "    <tr>\n",
       "      <th>2</th>\n",
       "      <td>3</td>\n",
       "      <td>2024-01-08</td>\n",
       "      <td>January</td>\n",
       "    </tr>\n",
       "    <tr>\n",
       "      <th>3</th>\n",
       "      <td>4</td>\n",
       "      <td>2024-01-07</td>\n",
       "      <td>January</td>\n",
       "    </tr>\n",
       "    <tr>\n",
       "      <th>4</th>\n",
       "      <td>5</td>\n",
       "      <td>2024-03-07</td>\n",
       "      <td>March</td>\n",
       "    </tr>\n",
       "  </tbody>\n",
       "</table>\n",
       "</div>"
      ],
      "text/plain": [
       "   order_id order_date    month\n",
       "0         1 2024-01-20  January\n",
       "1         2 2024-04-29    April\n",
       "2         3 2024-01-08  January\n",
       "3         4 2024-01-07  January\n",
       "4         5 2024-03-07    March"
      ]
     },
     "execution_count": 4,
     "metadata": {},
     "output_type": "execute_result"
    }
   ],
   "source": [
    "# Before: Show order_date data type\n",
    "print('Raw Data order_date dtype Before:', raw_df['order_date'].dtype)\n",
    "\n",
    "# Convert order_date to datetime and extract month\n",
    "for df in [raw_df, incremental_df]:\n",
    "    df['order_date'] = pd.to_datetime(df['order_date'], errors='coerce')\n",
    "    df['month'] = df['order_date'].dt.month_name()\n",
    "\n",
    "# After: Verify changes\n",
    "print('\\nRaw Data Head After datetime conversion:')\n",
    "raw_df[['order_id', 'order_date', 'month']].head()"
   ]
  },
  {
   "cell_type": "markdown",
   "id": "edafa4c6",
   "metadata": {},
   "source": [
    "## Transformation 4: Categorization (Create price_category)\n",
    "**Why**: Segmenting orders into price categories (Low, Medium, High) based on `total_price` helps identify customer spending patterns."
   ]
  },
  {
   "cell_type": "code",
   "execution_count": 5,
   "id": "a32eea80",
   "metadata": {},
   "outputs": [
    {
     "name": "stdout",
     "output_type": "stream",
     "text": [
      "Raw Data Columns Before: ['order_id', 'customer_name', 'product', 'quantity', 'unit_price', 'order_date', 'region', 'total_price', 'month']\n",
      "\n",
      "Raw Data Head After price_category:\n"
     ]
    },
    {
     "data": {
      "application/vnd.microsoft.datawrangler.viewer.v0+json": {
       "columns": [
        {
         "name": "index",
         "rawType": "int64",
         "type": "integer"
        },
        {
         "name": "order_id",
         "rawType": "int64",
         "type": "integer"
        },
        {
         "name": "total_price",
         "rawType": "float64",
         "type": "float"
        },
        {
         "name": "price_category",
         "rawType": "object",
         "type": "string"
        }
       ],
       "ref": "51207b0c-bb4c-4f62-9344-824454f40d9b",
       "rows": [
        [
         "0",
         "1",
         "500.0",
         "Medium"
        ],
        [
         "1",
         "2",
         "500.0",
         "Medium"
        ],
        [
         "2",
         "3",
         "500.0",
         "Medium"
        ],
        [
         "3",
         "4",
         "1500.0",
         "High"
        ],
        [
         "4",
         "5",
         "1500.0",
         "High"
        ]
       ],
       "shape": {
        "columns": 3,
        "rows": 5
       }
      },
      "text/html": [
       "<div>\n",
       "<style scoped>\n",
       "    .dataframe tbody tr th:only-of-type {\n",
       "        vertical-align: middle;\n",
       "    }\n",
       "\n",
       "    .dataframe tbody tr th {\n",
       "        vertical-align: top;\n",
       "    }\n",
       "\n",
       "    .dataframe thead th {\n",
       "        text-align: right;\n",
       "    }\n",
       "</style>\n",
       "<table border=\"1\" class=\"dataframe\">\n",
       "  <thead>\n",
       "    <tr style=\"text-align: right;\">\n",
       "      <th></th>\n",
       "      <th>order_id</th>\n",
       "      <th>total_price</th>\n",
       "      <th>price_category</th>\n",
       "    </tr>\n",
       "  </thead>\n",
       "  <tbody>\n",
       "    <tr>\n",
       "      <th>0</th>\n",
       "      <td>1</td>\n",
       "      <td>500.0</td>\n",
       "      <td>Medium</td>\n",
       "    </tr>\n",
       "    <tr>\n",
       "      <th>1</th>\n",
       "      <td>2</td>\n",
       "      <td>500.0</td>\n",
       "      <td>Medium</td>\n",
       "    </tr>\n",
       "    <tr>\n",
       "      <th>2</th>\n",
       "      <td>3</td>\n",
       "      <td>500.0</td>\n",
       "      <td>Medium</td>\n",
       "    </tr>\n",
       "    <tr>\n",
       "      <th>3</th>\n",
       "      <td>4</td>\n",
       "      <td>1500.0</td>\n",
       "      <td>High</td>\n",
       "    </tr>\n",
       "    <tr>\n",
       "      <th>4</th>\n",
       "      <td>5</td>\n",
       "      <td>1500.0</td>\n",
       "      <td>High</td>\n",
       "    </tr>\n",
       "  </tbody>\n",
       "</table>\n",
       "</div>"
      ],
      "text/plain": [
       "   order_id  total_price price_category\n",
       "0         1        500.0         Medium\n",
       "1         2        500.0         Medium\n",
       "2         3        500.0         Medium\n",
       "3         4       1500.0           High\n",
       "4         5       1500.0           High"
      ]
     },
     "execution_count": 5,
     "metadata": {},
     "output_type": "execute_result"
    }
   ],
   "source": [
    "# Before: Show columns\n",
    "print('Raw Data Columns Before:', raw_df.columns.tolist())\n",
    "\n",
    "# Define function to categorize total_price\n",
    "def categorize_price(total_price):\n",
    "    if total_price < 500:\n",
    "        return 'Low'\n",
    "    elif total_price < 1500:\n",
    "        return 'Medium'\n",
    "    else:\n",
    "        return 'High'\n",
    "\n",
    "# Apply categorization\n",
    "for df in [raw_df, incremental_df]:\n",
    "    df['price_category'] = df['total_price'].apply(categorize_price)\n",
    "\n",
    "# After: Verify price_category\n",
    "print('\\nRaw Data Head After price_category:')\n",
    "raw_df[['order_id', 'total_price', 'price_category']].head()"
   ]
  },
  {
   "cell_type": "markdown",
   "id": "c43a1a22",
   "metadata": {},
   "source": [
    "## Save Transformed Data\n",
    "Save transformed datasets to `data/transformed/` folder."
   ]
  },
  {
   "cell_type": "code",
   "execution_count": 8,
   "id": "fff85e84",
   "metadata": {},
   "outputs": [
    {
     "name": "stdout",
     "output_type": "stream",
     "text": [
      "Transformed datasets saved to transformed/\n"
     ]
    }
   ],
   "source": [
    "# Ensure transformed/ folder exists\n",
    "import os\n",
    "os.makedirs('transformed', exist_ok=True)\n",
    "\n",
    "# Save transformed datasets\n",
    "raw_df.to_csv('transformed/transformed_full.csv', index=False)\n",
    "incremental_df.to_csv('transformed/transformed_incremental.csv', index=False)\n",
    "print('Transformed datasets saved to transformed/')"
   ]
  },
  {
   "cell_type": "markdown",
   "id": "4f88387c",
   "metadata": {},
   "source": [
    "\n",
    "## Bonus: Visualization\n",
    "Plot total sales by product to gain insights and earn bonus marks.\n"
   ]
  },
  {
   "cell_type": "code",
   "execution_count": 9,
   "id": "9db75fcc",
   "metadata": {},
   "outputs": [
    {
     "data": {
      "image/png": "[encoded data removed]",
      "text/plain": [
       "<Figure size 800x600 with 1 Axes>"
      ]
     },
     "metadata": {},
     "output_type": "display_data"
    }
   ],
   "source": [
    "# Calculate total sales by product\n",
    "sales_by_product = raw_df.groupby('product')['total_price'].sum()\n",
    "\n",
    "# Create bar chart\n",
    "plt.figure(figsize=(8, 6))\n",
    "sales_by_product.plot(kind='bar', color='skyblue')\n",
    "plt.title('Total Sales by Product (Raw Data)')\n",
    "plt.xlabel('Product')\n",
    "plt.ylabel('Total Sales ($)')\n",
    "plt.savefig('sales_by_product.png')  # Save for README\n",
    "plt.show()"
   ]
  }
 ],
 "metadata": {
  "kernelspec": {
   "display_name": "Python 3",
   "language": "python",
   "name": "python3"
  },
  "language_info": {
   "codemirror_mode": {
    "name": "ipython",
    "version": 3
   },
   "file_extension": ".py",
   "mimetype": "text/x-python",
   "name": "python",
   "nbconvert_exporter": "python",
   "pygments_lexer": "ipython3",
   "version": "3.12.8"
  }
 },
 "nbformat": 4,
 "nbformat_minor": 5
}
