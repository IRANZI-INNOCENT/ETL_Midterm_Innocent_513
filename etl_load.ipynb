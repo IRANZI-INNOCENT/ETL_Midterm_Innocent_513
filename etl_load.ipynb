{
 "cells": [
  {
   "cell_type": "markdown",
   "id": "a50bfa30",
   "metadata": {},
   "source": [
    "# ETL Load Phase\n",
    "## Objective\n",
    "Load `transformed_full.csv` and `transformed_incremental.csv` into SQLite databases, verify results with SQL queries, and save to `loaded/` folder.\n",
    "## Tools\n",
    "- Python, pandas, sqlite3"
   ]
  },
  {
   "cell_type": "code",
   "execution_count": 2,
   "id": "d4f065e9",
   "metadata": {},
   "outputs": [],
   "source": [
    "# Import libraries for data handling and database operations\n",
    "import pandas as pd\n",
    "import sqlite3\n",
    "import os\n",
    "\n",
    "# Load transformed datasets\n",
    "full_df = pd.read_csv('transformed/transformed_full.csv')\n",
    "incremental_df = pd.read_csv('transformed/transformed_incremental.csv')"
   ]
  },
  {
   "cell_type": "markdown",
   "id": "0700a4cd",
   "metadata": {},
   "source": [
    "## Load Full Data to SQLite"
   ]
  },
  {
   "cell_type": "code",
   "execution_count": 3,
   "id": "2b7bb9a8",
   "metadata": {},
   "outputs": [
    {
     "name": "stdout",
     "output_type": "stream",
     "text": [
      "Full Data Preview:\n",
      "   order_id customer_name product  quantity  unit_price  order_date   region  \\\n",
      "0         1         Diana  Tablet       1.0       500.0  2024-01-20    South   \n",
      "1         2           Eve  Laptop       1.0       500.0  2024-04-29    North   \n",
      "2         3       Charlie  Laptop       2.0       250.0  2024-01-08  Unknown   \n",
      "3         4           Eve  Laptop       2.0       750.0  2024-01-07     West   \n",
      "4         5           Eve  Tablet       3.0       500.0  2024-03-07    South   \n",
      "\n",
      "   total_price    month price_category  \n",
      "0        500.0  January         Medium  \n",
      "1        500.0    April         Medium  \n",
      "2        500.0  January         Medium  \n",
      "3       1500.0  January           High  \n",
      "4       1500.0    March           High  \n"
     ]
    }
   ],
   "source": [
    "# Ensure loaded/ folder exists\n",
    "os.makedirs('loaded', exist_ok=True)\n",
    "\n",
    "# Connect to SQLite database\n",
    "conn = sqlite3.connect('loaded/full_data.db')\n",
    "\n",
    "# Load full data to table\n",
    "full_df.to_sql('full_data', conn, if_exists='replace', index=False)\n",
    "\n",
    "# Verify with SQL query\n",
    "query = 'SELECT * FROM full_data LIMIT 5'\n",
    "result = pd.read_sql(query, conn)\n",
    "print('Full Data Preview:')\n",
    "print(result)\n",
    "\n",
    "# Close connection\n",
    "conn.close()"
   ]
  },
  {
   "cell_type": "markdown",
   "id": "9dce3bbe",
   "metadata": {},
   "source": [
    "## Load Incremental Data to SQLite"
   ]
  },
  {
   "cell_type": "code",
   "execution_count": 4,
   "id": "3d588b4d",
   "metadata": {},
   "outputs": [
    {
     "name": "stdout",
     "output_type": "stream",
     "text": [
      "Incremental Data Preview:\n",
      "   order_id customer_name product  quantity  unit_price  order_date   region  \\\n",
      "0       101         Alice  Laptop       1.0       900.0  2024-05-09  Central   \n",
      "1       102       Unknown  Laptop       1.0       300.0  2024-05-07  Central   \n",
      "2       103       Unknown  Laptop       1.0       600.0  2024-05-04  Central   \n",
      "3       104       Unknown  Tablet       1.0       300.0  2024-05-26  Central   \n",
      "4       105         Heidi  Tablet       2.0       600.0  2024-05-21    North   \n",
      "\n",
      "   total_price month price_category  \n",
      "0        900.0   May         Medium  \n",
      "1        300.0   May            Low  \n",
      "2        600.0   May         Medium  \n",
      "3        300.0   May            Low  \n",
      "4       1200.0   May         Medium  \n"
     ]
    }
   ],
   "source": [
    "# Connect to SQLite database\n",
    "conn = sqlite3.connect('loaded/incremental_data.db')\n",
    "\n",
    "# Load incremental data to table\n",
    "incremental_df.to_sql('incremental_data', conn, if_exists='replace', index=False)\n",
    "\n",
    "# Verify with SQL query\n",
    "query = 'SELECT * FROM incremental_data LIMIT 5'\n",
    "result = pd.read_sql(query, conn)\n",
    "print('Incremental Data Preview:')\n",
    "print(result)\n",
    "\n",
    "# Close connection\n",
    "conn.close()"
   ]
  }
 ],
 "metadata": {
  "kernelspec": {
   "display_name": "Python 3",
   "language": "python",
   "name": "python3"
  },
  "language_info": {
   "codemirror_mode": {
    "name": "ipython",
    "version": 3
   },
   "file_extension": ".py",
   "mimetype": "text/x-python",
   "name": "python",
   "nbconvert_exporter": "python",
   "pygments_lexer": "ipython3",
   "version": "3.12.8"
  }
 },
 "nbformat": 4,
 "nbformat_minor": 5
}
