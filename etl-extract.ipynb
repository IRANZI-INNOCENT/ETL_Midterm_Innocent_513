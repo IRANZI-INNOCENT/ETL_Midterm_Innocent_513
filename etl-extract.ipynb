{
 "cells": [
  {
   "cell_type": "markdown",
   "id": "c8e83e89",
   "metadata": {},
   "source": [
    "### ETL Extract Phase\n",
    "### Objective\n",
    "Load `raw_data.csv` and `incremental_data.csv`, inspect their structure, and document observations about data quality (e.g., missing values, duplicates). Save raw copies to `data/` folder.\n",
    "### Tools\n",
    "- Python, pandas"
   ]
  },
  {
   "cell_type": "code",
   "execution_count": 1,
   "id": "06c6b19d",
   "metadata": {},
   "outputs": [],
   "source": [
    "# Import required library for data handling\n",
    "import pandas as pd\n",
    "\n",
    "# Define relative file paths to ensure portability\n",
    "raw_data_path = 'data/raw_data.csv'\n",
    "incremental_data_path = 'data/incremental_data.csv'\n",
    "\n",
    "# Load datasets into DataFrames\n",
    "raw_df = pd.read_csv(raw_data_path)\n",
    "incremental_df = pd.read_csv(incremental_data_path)"
   ]
  },
  {
   "cell_type": "markdown",
   "id": "8d9b8dab",
   "metadata": {},
   "source": [
    "## Inspect Raw Data"
   ]
  },
  {
   "cell_type": "code",
   "execution_count": 2,
   "id": "e5ae0dc6",
   "metadata": {},
   "outputs": [
    {
     "name": "stdout",
     "output_type": "stream",
     "text": [
      "Raw Data Preview:\n"
     ]
    },
    {
     "data": {
      "application/vnd.microsoft.datawrangler.viewer.v0+json": {
       "columns": [
        {
         "name": "index",
         "rawType": "int64",
         "type": "integer"
        },
        {
         "name": "order_id",
         "rawType": "int64",
         "type": "integer"
        },
        {
         "name": "customer_name",
         "rawType": "object",
         "type": "string"
        },
        {
         "name": "product",
         "rawType": "object",
         "type": "string"
        },
        {
         "name": "quantity",
         "rawType": "float64",
         "type": "float"
        },
        {
         "name": "unit_price",
         "rawType": "float64",
         "type": "float"
        },
        {
         "name": "order_date",
         "rawType": "object",
         "type": "string"
        },
        {
         "name": "region",
         "rawType": "object",
         "type": "unknown"
        }
       ],
       "ref": "4adaae14-aee6-4001-b5f1-fbd6533cc7f8",
       "rows": [
        [
         "0",
         "1",
         "Diana",
         "Tablet",
         null,
         "500.0",
         "2024-01-20",
         "South"
        ],
        [
         "1",
         "2",
         "Eve",
         "Laptop",
         null,
         null,
         "2024-04-29",
         "North"
        ],
        [
         "2",
         "3",
         "Charlie",
         "Laptop",
         "2.0",
         "250.0",
         "2024-01-08",
         null
        ],
        [
         "3",
         "4",
         "Eve",
         "Laptop",
         "2.0",
         "750.0",
         "2024-01-07",
         "West"
        ],
        [
         "4",
         "5",
         "Eve",
         "Tablet",
         "3.0",
         null,
         "2024-03-07",
         "South"
        ]
       ],
       "shape": {
        "columns": 7,
        "rows": 5
       }
      },
      "text/html": [
       "<div>\n",
       "<style scoped>\n",
       "    .dataframe tbody tr th:only-of-type {\n",
       "        vertical-align: middle;\n",
       "    }\n",
       "\n",
       "    .dataframe tbody tr th {\n",
       "        vertical-align: top;\n",
       "    }\n",
       "\n",
       "    .dataframe thead th {\n",
       "        text-align: right;\n",
       "    }\n",
       "</style>\n",
       "<table border=\"1\" class=\"dataframe\">\n",
       "  <thead>\n",
       "    <tr style=\"text-align: right;\">\n",
       "      <th></th>\n",
       "      <th>order_id</th>\n",
       "      <th>customer_name</th>\n",
       "      <th>product</th>\n",
       "      <th>quantity</th>\n",
       "      <th>unit_price</th>\n",
       "      <th>order_date</th>\n",
       "      <th>region</th>\n",
       "    </tr>\n",
       "  </thead>\n",
       "  <tbody>\n",
       "    <tr>\n",
       "      <th>0</th>\n",
       "      <td>1</td>\n",
       "      <td>Diana</td>\n",
       "      <td>Tablet</td>\n",
       "      <td>NaN</td>\n",
       "      <td>500.0</td>\n",
       "      <td>2024-01-20</td>\n",
       "      <td>South</td>\n",
       "    </tr>\n",
       "    <tr>\n",
       "      <th>1</th>\n",
       "      <td>2</td>\n",
       "      <td>Eve</td>\n",
       "      <td>Laptop</td>\n",
       "      <td>NaN</td>\n",
       "      <td>NaN</td>\n",
       "      <td>2024-04-29</td>\n",
       "      <td>North</td>\n",
       "    </tr>\n",
       "    <tr>\n",
       "      <th>2</th>\n",
       "      <td>3</td>\n",
       "      <td>Charlie</td>\n",
       "      <td>Laptop</td>\n",
       "      <td>2.0</td>\n",
       "      <td>250.0</td>\n",
       "      <td>2024-01-08</td>\n",
       "      <td>NaN</td>\n",
       "    </tr>\n",
       "    <tr>\n",
       "      <th>3</th>\n",
       "      <td>4</td>\n",
       "      <td>Eve</td>\n",
       "      <td>Laptop</td>\n",
       "      <td>2.0</td>\n",
       "      <td>750.0</td>\n",
       "      <td>2024-01-07</td>\n",
       "      <td>West</td>\n",
       "    </tr>\n",
       "    <tr>\n",
       "      <th>4</th>\n",
       "      <td>5</td>\n",
       "      <td>Eve</td>\n",
       "      <td>Tablet</td>\n",
       "      <td>3.0</td>\n",
       "      <td>NaN</td>\n",
       "      <td>2024-03-07</td>\n",
       "      <td>South</td>\n",
       "    </tr>\n",
       "  </tbody>\n",
       "</table>\n",
       "</div>"
      ],
      "text/plain": [
       "   order_id customer_name product  quantity  unit_price  order_date region\n",
       "0         1         Diana  Tablet       NaN       500.0  2024-01-20  South\n",
       "1         2           Eve  Laptop       NaN         NaN  2024-04-29  North\n",
       "2         3       Charlie  Laptop       2.0       250.0  2024-01-08    NaN\n",
       "3         4           Eve  Laptop       2.0       750.0  2024-01-07   West\n",
       "4         5           Eve  Tablet       3.0         NaN  2024-03-07  South"
      ]
     },
     "execution_count": 2,
     "metadata": {},
     "output_type": "execute_result"
    }
   ],
   "source": [
    "# Display first 5 rows to preview raw_data\n",
    "print('Raw Data Preview:')\n",
    "raw_df.head()"
   ]
  },
  {
   "cell_type": "markdown",
   "id": "26d64f19",
   "metadata": {},
   "source": [
    "```markdown\n",
    "## Inspect Incremental Data\n",
    "```"
   ]
  },
  {
   "cell_type": "code",
   "execution_count": 3,
   "id": "8c402647",
   "metadata": {},
   "outputs": [
    {
     "name": "stdout",
     "output_type": "stream",
     "text": [
      "Incremental Data Preview:\n"
     ]
    },
    {
     "data": {
      "application/vnd.microsoft.datawrangler.viewer.v0+json": {
       "columns": [
        {
         "name": "index",
         "rawType": "int64",
         "type": "integer"
        },
        {
         "name": "order_id",
         "rawType": "int64",
         "type": "integer"
        },
        {
         "name": "customer_name",
         "rawType": "object",
         "type": "unknown"
        },
        {
         "name": "product",
         "rawType": "object",
         "type": "string"
        },
        {
         "name": "quantity",
         "rawType": "float64",
         "type": "float"
        },
        {
         "name": "unit_price",
         "rawType": "float64",
         "type": "float"
        },
        {
         "name": "order_date",
         "rawType": "object",
         "type": "string"
        },
        {
         "name": "region",
         "rawType": "object",
         "type": "string"
        }
       ],
       "ref": "8d5c79ef-e98a-4fb5-81dd-79f131bfda45",
       "rows": [
        [
         "0",
         "101",
         "Alice",
         "Laptop",
         null,
         "900.0",
         "2024-05-09",
         "Central"
        ],
        [
         "1",
         "102",
         null,
         "Laptop",
         "1.0",
         "300.0",
         "2024-05-07",
         "Central"
        ],
        [
         "2",
         "103",
         null,
         "Laptop",
         "1.0",
         "600.0",
         "2024-05-04",
         "Central"
        ],
        [
         "3",
         "104",
         null,
         "Tablet",
         null,
         "300.0",
         "2024-05-26",
         "Central"
        ],
        [
         "4",
         "105",
         "Heidi",
         "Tablet",
         "2.0",
         "600.0",
         "2024-05-21",
         "North"
        ]
       ],
       "shape": {
        "columns": 7,
        "rows": 5
       }
      },
      "text/html": [
       "<div>\n",
       "<style scoped>\n",
       "    .dataframe tbody tr th:only-of-type {\n",
       "        vertical-align: middle;\n",
       "    }\n",
       "\n",
       "    .dataframe tbody tr th {\n",
       "        vertical-align: top;\n",
       "    }\n",
       "\n",
       "    .dataframe thead th {\n",
       "        text-align: right;\n",
       "    }\n",
       "</style>\n",
       "<table border=\"1\" class=\"dataframe\">\n",
       "  <thead>\n",
       "    <tr style=\"text-align: right;\">\n",
       "      <th></th>\n",
       "      <th>order_id</th>\n",
       "      <th>customer_name</th>\n",
       "      <th>product</th>\n",
       "      <th>quantity</th>\n",
       "      <th>unit_price</th>\n",
       "      <th>order_date</th>\n",
       "      <th>region</th>\n",
       "    </tr>\n",
       "  </thead>\n",
       "  <tbody>\n",
       "    <tr>\n",
       "      <th>0</th>\n",
       "      <td>101</td>\n",
       "      <td>Alice</td>\n",
       "      <td>Laptop</td>\n",
       "      <td>NaN</td>\n",
       "      <td>900.0</td>\n",
       "      <td>2024-05-09</td>\n",
       "      <td>Central</td>\n",
       "    </tr>\n",
       "    <tr>\n",
       "      <th>1</th>\n",
       "      <td>102</td>\n",
       "      <td>NaN</td>\n",
       "      <td>Laptop</td>\n",
       "      <td>1.0</td>\n",
       "      <td>300.0</td>\n",
       "      <td>2024-05-07</td>\n",
       "      <td>Central</td>\n",
       "    </tr>\n",
       "    <tr>\n",
       "      <th>2</th>\n",
       "      <td>103</td>\n",
       "      <td>NaN</td>\n",
       "      <td>Laptop</td>\n",
       "      <td>1.0</td>\n",
       "      <td>600.0</td>\n",
       "      <td>2024-05-04</td>\n",
       "      <td>Central</td>\n",
       "    </tr>\n",
       "    <tr>\n",
       "      <th>3</th>\n",
       "      <td>104</td>\n",
       "      <td>NaN</td>\n",
       "      <td>Tablet</td>\n",
       "      <td>NaN</td>\n",
       "      <td>300.0</td>\n",
       "      <td>2024-05-26</td>\n",
       "      <td>Central</td>\n",
       "    </tr>\n",
       "    <tr>\n",
       "      <th>4</th>\n",
       "      <td>105</td>\n",
       "      <td>Heidi</td>\n",
       "      <td>Tablet</td>\n",
       "      <td>2.0</td>\n",
       "      <td>600.0</td>\n",
       "      <td>2024-05-21</td>\n",
       "      <td>North</td>\n",
       "    </tr>\n",
       "  </tbody>\n",
       "</table>\n",
       "</div>"
      ],
      "text/plain": [
       "   order_id customer_name product  quantity  unit_price  order_date   region\n",
       "0       101         Alice  Laptop       NaN       900.0  2024-05-09  Central\n",
       "1       102           NaN  Laptop       1.0       300.0  2024-05-07  Central\n",
       "2       103           NaN  Laptop       1.0       600.0  2024-05-04  Central\n",
       "3       104           NaN  Tablet       NaN       300.0  2024-05-26  Central\n",
       "4       105         Heidi  Tablet       2.0       600.0  2024-05-21    North"
      ]
     },
     "execution_count": 3,
     "metadata": {},
     "output_type": "execute_result"
    }
   ],
   "source": [
    "# Display first 5 rows to preview incremental_data\n",
    "print('Incremental Data Preview:')\n",
    "incremental_df.head()"
   ]
  },
  {
   "cell_type": "code",
   "execution_count": null,
   "id": "81bdb515",
   "metadata": {},
   "outputs": [
    {
     "name": "stdout",
     "output_type": "stream",
     "text": [
      "Incremental Data Info:\n",
      "<class 'pandas.core.frame.DataFrame'>\n",
      "RangeIndex: 10 entries, 0 to 9\n",
      "Data columns (total 7 columns):\n",
      " #   Column         Non-Null Count  Dtype  \n",
      "---  ------         --------------  -----  \n",
      " 0   order_id       10 non-null     int64  \n",
      " 1   customer_name  4 non-null      object \n",
      " 2   product        10 non-null     object \n",
      " 3   quantity       6 non-null      float64\n",
      " 4   unit_price     10 non-null     float64\n",
      " 5   order_date     10 non-null     object \n",
      " 6   region         8 non-null      object \n",
      "dtypes: float64(2), int64(1), object(4)\n",
      "memory usage: 692.0+ bytes\n"
     ]
    }
   ],
   "source": [
    "# Display structure and data types of incremental_data\n",
    "print('Incremental Data Info:')\n",
    "incremental_df.info()\n"
   ]
  },
  {
   "cell_type": "markdown",
   "id": "2b657239",
   "metadata": {},
   "source": [
    "## Observations\n",
    "- **Raw Data** (100 rows):\n",
    "  - Columns: `order_id`, `customer_name`, `product`, `quantity`, `unit_price`, `order_date`, `region`\n",
    "  - Missing values: Many rows have missing `customer_name` (e.g., row 2), `quantity` (e.g., row 1), `unit_price` (e.g., row 5), `order_date` (e.g., row 16), and `region` (e.g., row 3).\n",
    "  - Duplicates: Order ID 4 appears twice, indicating a potential error.\n",
    "  - Data types: `quantity` and `unit_price` are float64, but `order_date` is object (needs datetime conversion).\n",
    "  - Suspicious: Inconsistent values (e.g., missing `unit_price` for high-quantity orders).\n",
    "- **Incremental Data** (10 rows):\n",
    "  - Same columns as raw data.\n",
    "  - Missing values: Several rows lack `customer_name` (e.g., row 2), `quantity` (e.g., row 1), or `region` (e.g., row 8).\n",
    "  - No duplicates based on `order_id`.\n",
    "  - Data types: `order_date` is object, needs conversion.\n",
    "- **Action Needed**: Clean missing values, remove duplicates, convert data types for analysis.\n"
   ]
  },
  {
   "cell_type": "code",
   "execution_count": 5,
   "id": "a81a3195",
   "metadata": {},
   "outputs": [
    {
     "name": "stdout",
     "output_type": "stream",
     "text": [
      "Raw Data Duplicates: 1\n",
      "Incremental Data Duplicates: 0\n"
     ]
    }
   ],
   "source": [
    "# Check for duplicate order_ids\n",
    "print('Raw Data Duplicates:', raw_df.duplicated(subset=['order_id']).sum())\n",
    "print('Incremental Data Duplicates:', incremental_df.duplicated(subset=['order_id']).sum())"
   ]
  },
  {
   "cell_type": "code",
   "execution_count": 7,
   "id": "c936e36f",
   "metadata": {},
   "outputs": [
    {
     "name": "stdout",
     "output_type": "stream",
     "text": [
      "Raw datasets saved to data/ folder.\n"
     ]
    }
   ],
   "source": [
    "# Save raw datasets to data/ folder (overwrites to verify)\n",
    "raw_df.to_csv('data/raw_data.csv', index=False)\n",
    "incremental_df.to_csv('data/incremental_data.csv', index=False)\n",
    "print('Raw datasets saved to data/ folder.')\n"
   ]
  }
 ],
 "metadata": {
  "kernelspec": {
   "display_name": "Python 3",
   "language": "python",
   "name": "python3"
  },
  "language_info": {
   "codemirror_mode": {
    "name": "ipython",
    "version": 3
   },
   "file_extension": ".py",
   "mimetype": "text/x-python",
   "name": "python",
   "nbconvert_exporter": "python",
   "pygments_lexer": "ipython3",
   "version": "3.12.8"
  }
 },
 "nbformat": 4,
 "nbformat_minor": 5
}
